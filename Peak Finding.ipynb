{
 "cells": [
  {
   "cell_type": "markdown",
   "metadata": {},
   "source": [
    "# Peak Finding\n",
    "In one dimension, runs on an array, find the peak if it exists (it does). The index is at a peak IFF (if and only if) value at n is greater than or equal to the value at n-1 and n+1. E.g.:\n",
    "\n",
    "| 0 | 1 | 2 | ... | n / 2 | ... | n\n",
    "| :- | - | - | - | - | - | -\n",
    "| a | b | c | ... | y | ... | z \n",
    "\n",
    "In the above table, b is a peak iff b >= a and b >= c. To find a peak, try breaking the problem in half and searching from the middle. Compare the values at (n / 2) - 1 and (n / 2) + 1."
   ]
  },
  {
   "cell_type": "code",
   "execution_count": null,
   "metadata": {},
   "outputs": [],
   "source": []
  }
 ],
 "metadata": {
  "kernelspec": {
   "display_name": "Python 3",
   "language": "python",
   "name": "python3"
  },
  "language_info": {
   "codemirror_mode": {
    "name": "ipython",
    "version": 3
   },
   "file_extension": ".py",
   "mimetype": "text/x-python",
   "name": "python",
   "nbconvert_exporter": "python",
   "pygments_lexer": "ipython3",
   "version": "3.7.3"
  }
 },
 "nbformat": 4,
 "nbformat_minor": 2
}
