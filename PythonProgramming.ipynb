{
    "metadata": {
        "kernelspec": {
            "name": "python3",
            "display_name": "Python 3 (ipykernel)",
            "language": "python"
        },
        "language_info": {
            "name": "python",
            "version": "3.8.10",
            "mimetype": "text/x-python",
            "codemirror_mode": {
                "name": "ipython",
                "version": 3
            },
            "pygments_lexer": "ipython3",
            "nbconvert_exporter": "python",
            "file_extension": ".py"
        }
    },
    "nbformat_minor": 2,
    "nbformat": 4,
    "cells": [
        {
            "cell_type": "markdown",
            "source": [
                "# Programming Exercises\n",
                "\n",
                "These are just a few examples of programming questions that novice programmers could be asked. They cover a range of basic programming concepts and techniques, including conditionals, loops, functions, string manipulation, and list manipulation.\n",
                "\n",
                "Collapse the code windows to prevent spoilers. These exercises are capable of being executed within this notebook if all pre-requisites are installed (e.g. Python and pytest module). In order to run tests, the definitions for the functions must be executed first."
            ],
            "metadata": {
                "azdata_cell_guid": "0d7419d6-88d0-4ac1-8730-155c7acf4c89"
            },
            "attachments": {}
        },
        {
            "cell_type": "markdown",
            "source": [
                "- **FizzBuzz** - Write a program that prints the numbers from _n_ to _t_. For multiples of three, print \"Fizz\" instead of the number and for multiples of five, print \"Buzz\". For numbers which are multiples of both three and five, print \"FizzBuzz\"."
            ],
            "metadata": {
                "azdata_cell_guid": "30c2322b-62e2-4c4b-98cf-be5e58152453"
            },
            "attachments": {}
        },
        {
            "cell_type": "code",
            "source": [
                "def fizzbuzz(n: int, t: int):\r\n",
                "    result = []\r\n",
                "    for num in range(n, t):\r\n",
                "        if num % 3 == 0 and num % 5 == 0:\r\n",
                "            result.append(\"FizzBuzz\")\r\n",
                "        elif num % 3 == 0:\r\n",
                "            result.append(\"Fizz\")\r\n",
                "        elif num % 5 == 0:\r\n",
                "            result.append(\"Buzz\")\r\n",
                "        else:\r\n",
                "            result.append(num)\r\n",
                "    return result"
            ],
            "metadata": {
                "azdata_cell_guid": "d4e4cbeb-0208-4713-8f57-b1b39f749921",
                "language": "python",
                "tags": [
                    "hide_input"
                ]
            },
            "outputs": [],
            "execution_count": null
        },
        {
            "cell_type": "code",
            "source": [
                "def fizzbuzz_V2(n: int, t: int, fizz: int, buzz: int):\r\n",
                "    result = []\r\n",
                "    for num in range(n, t):\r\n",
                "        if num % fizz == 0 and num % buzz == 0:\r\n",
                "            result.append(\"FizzBuzz\")\r\n",
                "        elif num % fizz == 0:\r\n",
                "            result.append(\"Fizz\")\r\n",
                "        elif num % buzz == 0:\r\n",
                "            result.append(\"Buzz\")\r\n",
                "        else:\r\n",
                "            result.append(num)\r\n",
                "    return result"
            ],
            "metadata": {
                "language": "python",
                "azdata_cell_guid": "8e9574f0-4bcb-4b54-b9d4-24a318a33ade",
                "tags": [
                    "hide_input"
                ]
            },
            "outputs": [],
            "execution_count": null
        },
        {
            "cell_type": "markdown",
            "source": [
                "- **Palindrome checker** - Write a function that checks if a given string is a palindrome (a word or phrase that reads the same backwards as forwards)."
            ],
            "metadata": {
                "language": "python",
                "azdata_cell_guid": "866f8e45-a8f1-4222-afb5-daada2e6e741"
            },
            "attachments": {}
        },
        {
            "cell_type": "code",
            "source": [
                "def is_palindrome(word):\r\n",
                "    word = word.lower().replace(\" \", \"\")\r\n",
                "    return word == word[::-1]"
            ],
            "metadata": {
                "language": "python",
                "azdata_cell_guid": "19497403-5fa2-4b51-b3f0-68eaa2b0d6f5",
                "tags": [
                    "hide_input"
                ]
            },
            "outputs": [],
            "execution_count": null
        },
        {
            "cell_type": "markdown",
            "source": [
                "- **Factorial** - Write a function that calculates the factorial of a given number."
            ],
            "metadata": {
                "language": "python",
                "azdata_cell_guid": "e4ba9c16-8ef5-4fae-a324-66d0b318610f"
            },
            "attachments": {}
        },
        {
            "cell_type": "code",
            "source": [
                "def factorial(num):\r\n",
                "    if num == 0:\r\n",
                "        return 1\r\n",
                "    else:\r\n",
                "        return num * factorial(num-1)"
            ],
            "metadata": {
                "language": "python",
                "azdata_cell_guid": "245cf39b-b5a3-4a9d-98ab-796f695255c9",
                "tags": [
                    "hide_input"
                ]
            },
            "outputs": [],
            "execution_count": null
        },
        {
            "cell_type": "markdown",
            "source": [
                "- **Greatest Common Divisor (GCD)**: Write a function that calculates the greates common divisor of two given numbers."
            ],
            "metadata": {
                "language": "python",
                "azdata_cell_guid": "e9a54ff5-c522-48de-a232-e25af614e3f8"
            },
            "attachments": {}
        },
        {
            "cell_type": "code",
            "source": [
                "def gcd(a, b):\r\n",
                "    while b != 0:\r\n",
                "        a, b = b, a % b\r\n",
                "    return a"
            ],
            "metadata": {
                "language": "python",
                "azdata_cell_guid": "3f6d92d0-1408-4594-941a-fd79e1329f39",
                "tags": [
                    "hide_input"
                ]
            },
            "outputs": [],
            "execution_count": null
        },
        {
            "cell_type": "markdown",
            "source": [
                "- **Reverse a string:** Write a function that reverses a given string."
            ],
            "metadata": {
                "language": "python",
                "azdata_cell_guid": "e919bc7e-3817-406c-899f-4bc3e234d1a2"
            },
            "attachments": {}
        },
        {
            "cell_type": "code",
            "source": [
                "def reverse_string(word):\r\n",
                "    return word[::-1]"
            ],
            "metadata": {
                "language": "python",
                "azdata_cell_guid": "c491266f-4606-4c49-b0b8-64cf7a2f56e8",
                "tags": [
                    "hide_input"
                ]
            },
            "outputs": [],
            "execution_count": null
        },
        {
            "cell_type": "markdown",
            "source": [
                "- **Count the frequency of each word in a sentence**: Write a function that takes a sentence as input and returns a dictionary with the frequency of each word in the sentence."
            ],
            "metadata": {
                "language": "python",
                "azdata_cell_guid": "4761802d-6c41-478c-b05f-677113293aaf"
            },
            "attachments": {}
        },
        {
            "cell_type": "code",
            "source": [
                "def count_words(sentence):\r\n",
                "    words = sentence.lower().split()\r\n",
                "    freq = {}\r\n",
                "    for word in words:\r\n",
                "        if word in freq:\r\n",
                "            freq[word] += 1\r\n",
                "        else:\r\n",
                "            freq[word] = 1\r\n",
                "    return freq"
            ],
            "metadata": {
                "language": "python",
                "azdata_cell_guid": "70ca77c3-0cad-4136-89f3-686edca80422",
                "tags": [
                    "hide_input"
                ]
            },
            "outputs": [],
            "execution_count": null
        },
        {
            "cell_type": "markdown",
            "source": [
                "- **Fibonacci** - Define two functions. One to output a list of fibonacci numbers up to a given number and the other to test whether a given number is a fibonacci using the first function."
            ],
            "metadata": {
                "language": "python",
                "azdata_cell_guid": "f41afb01-68f1-4a66-819b-d7a733f61a82"
            },
            "attachments": {}
        },
        {
            "cell_type": "code",
            "source": [
                "def fibonacci(n: int):\r\n",
                "    \"\"\"Outputs a list of fibonacci numbers up to a given number n\"\"\"\r\n",
                "    if n < 0:\r\n",
                "        raise ValueError(\"Invalid input, must be a positive integer\", n)\r\n",
                "\r\n",
                "    a, b = 0, 1\r\n",
                "    my_list = []\r\n",
                "    while a <= n:\r\n",
                "        my_list.append(a)\r\n",
                "        a, b = b, a + b\r\n",
                "    return my_list"
            ],
            "metadata": {
                "language": "python",
                "azdata_cell_guid": "80ac3139-f5fb-4d67-9698-c34c74f55706",
                "tags": [
                    "hide_input"
                ]
            },
            "outputs": [],
            "execution_count": null
        },
        {
            "cell_type": "code",
            "source": [
                "def is_fibonacci(n):\r\n",
                "    \"\"\"Indicates if a given number is a fibonacci number\"\"\"\r\n",
                "    # Quick check for negatives\r\n",
                "    if n < 0:\r\n",
                "        return False\r\n",
                "\r\n",
                "    fib_list = fibonacci(n)\r\n",
                "    if fib_list[-1] == n:\r\n",
                "        return True\r\n",
                "    else:\r\n",
                "        return False"
            ],
            "metadata": {
                "language": "python",
                "azdata_cell_guid": "6ba5dfdb-da54-43bb-8244-ecffa47cf5f9",
                "tags": [
                    "hide_input"
                ]
            },
            "outputs": [],
            "execution_count": null
        },
        {
            "cell_type": "markdown",
            "source": [
                "- **Unit testing** - Using Python, use the functions to create a set of tests. Passing tests do not generate any output, meaning the asserts only generate output when a test fails."
            ],
            "metadata": {
                "language": "python",
                "azdata_cell_guid": "24f8b647-8da2-406d-bd57-3da69fd58a5d"
            },
            "attachments": {}
        },
        {
            "cell_type": "code",
            "source": [
                "# Uncomment to install pytest module, 1 time only\r\n",
                "#pip install pytest\r\n",
                "\r\n",
                "# To use, call pytest from command line\r\n",
                "import pytest"
            ],
            "metadata": {
                "language": "python",
                "azdata_cell_guid": "950080de-acb5-486b-81f7-f44d85f98ee0",
                "tags": [
                    "hide_input"
                ]
            },
            "outputs": [],
            "execution_count": null
        },
        {
            "cell_type": "code",
            "source": [
                "def test_fizzbuz_from_1_to_20():\r\n",
                "    # Arrange\r\n",
                "    expected = [1,\r\n",
                "    2,\r\n",
                "    'Fizz',\r\n",
                "    4,\r\n",
                "    'Buzz',\r\n",
                "    'Fizz',\r\n",
                "    7,\r\n",
                "    8,\r\n",
                "    'Fizz',\r\n",
                "    'Buzz',\r\n",
                "    11,\r\n",
                "    'Fizz',\r\n",
                "    13,\r\n",
                "    14,\r\n",
                "    'FizzBuzz',\r\n",
                "    16,\r\n",
                "    17,\r\n",
                "    'Fizz',\r\n",
                "    19]\r\n",
                "\r\n",
                "    # Act\r\n",
                "    actual = fizzbuzz(1,20)\r\n",
                "\r\n",
                "    # Assert\r\n",
                "    assert actual == expected\r\n",
                "\r\n",
                "test_fizzbuz_from_1_to_20()"
            ],
            "metadata": {
                "language": "python",
                "azdata_cell_guid": "c76e77bb-dd2c-47bb-ac87-256562b1b683",
                "tags": [
                    "hide_input"
                ]
            },
            "outputs": [],
            "execution_count": null
        },
        {
            "cell_type": "code",
            "source": [
                "def test_fizzbuz_V2_from_1_to_10_on_4_and_7():\r\n",
                "    # Arrange\r\n",
                "    expected = [1, 2, 3, 'Fizz', 5, 6, 'Buzz', 'Fizz', 9]\r\n",
                "\r\n",
                "    # Act\r\n",
                "    actual = fizzbuzz_V2(1, 10, 4, 7)\r\n",
                "\r\n",
                "    # Assert\r\n",
                "    assert actual == expected\r\n",
                "\r\n",
                "test_fizzbuz_V2_from_1_to_10_on_4_and_7()"
            ],
            "metadata": {
                "language": "python",
                "azdata_cell_guid": "de967e14-642f-485e-bb89-45d3361b1837",
                "tags": [
                    "hide_input"
                ]
            },
            "outputs": [],
            "execution_count": null
        },
        {
            "cell_type": "code",
            "source": [
                "def test_is_palindrome_true():\r\n",
                "    # Arrange\r\n",
                "    test_string = \"racecar\"\r\n",
                "\r\n",
                "    # Act\r\n",
                "    actual = is_palindrome(test_string)\r\n",
                "\r\n",
                "    # Assert\r\n",
                "    assert actual == True\r\n",
                "\r\n",
                "test_is_palindrome_true()"
            ],
            "metadata": {
                "language": "python",
                "azdata_cell_guid": "db1dd20a-dd1e-4a0f-a72a-fb741dd52253",
                "tags": [
                    "hide_input"
                ]
            },
            "outputs": [],
            "execution_count": null
        },
        {
            "cell_type": "code",
            "source": [
                "def test_is_palindrome_false():\r\n",
                "    # Arrange\r\n",
                "    not_palindrome = \"not a palindrome\"\r\n",
                "\r\n",
                "    # Act\r\n",
                "    actual = is_palindrome(not_palindrome)\r\n",
                "\r\n",
                "    # Assert\r\n",
                "    assert actual == False\r\n",
                "\r\n",
                "test_is_palindrome_false()"
            ],
            "metadata": {
                "language": "python",
                "azdata_cell_guid": "2794986d-5b62-45e0-86e6-a39c3c3e68fb",
                "tags": [
                    "hide_input"
                ]
            },
            "outputs": [],
            "execution_count": null
        }
    ]
}