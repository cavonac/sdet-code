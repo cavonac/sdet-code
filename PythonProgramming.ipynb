{
    "cells": [
        {
            "attachments": {},
            "cell_type": "markdown",
            "metadata": {
                "azdata_cell_guid": "0d7419d6-88d0-4ac1-8730-155c7acf4c89"
            },
            "source": [
                "# Python Programming Notebook\n",
                "\n",
                "These are a few examples of programming questions that novice programmers could be asked to demonstrate their knowledge. They cover a range of basic programming concepts and techniques, including conditionals, loops, functions, string manipulation, and list manipulation. These exercises are capable of being executed within this notebook if all pre-requisites are installed (e.g. Python and pytest module). In order to run tests, the definitions for the functions must be executed first. Use this notebook as a starting point to guide your self-study learning.\n",
                "\n",
                "> **Fun Fact:** The Python programming language is named after a famous BBC sketch comedy group!\n",
                "\n",
                "For more information about the Python programming language, see:\n",
                "\n",
                "- [Python.org's Beginners Guide for Programmers](https:\\wiki.python.org\\moin\\BeginnersGuide\\Programmers)\n",
                "- [W3 Schools.com's Python tutorials](https:\\www.w3schools.com\\python)"
            ]
        },
        {
            "attachments": {},
            "cell_type": "markdown",
            "metadata": {
                "azdata_cell_guid": "30c2322b-62e2-4c4b-98cf-be5e58152453"
            },
            "source": [
                "- **FizzBuzz** - Write a Python definition that prints the numbers from _n_ to _t_. For multiples of three, print \"Fizz\" instead of the number and for multiples of five, print \"Buzz\". For numbers which are multiples of both three and five, print \"FizzBuzz\"."
            ]
        },
        {
            "cell_type": "code",
            "execution_count": 1,
            "metadata": {
                "azdata_cell_guid": "d4e4cbeb-0208-4713-8f57-b1b39f749921",
                "language": "python",
                "tags": []
            },
            "outputs": [],
            "source": [
                "def fizzbuzz(n: int, t: int):\n",
                "    result = []\n",
                "    for num in range(n, t):\n",
                "        if num % 3 == 0 and num % 5 == 0:\n",
                "            result.append(\"FizzBuzz\")\n",
                "        elif num % 3 == 0:\n",
                "            result.append(\"Fizz\")\n",
                "        elif num % 5 == 0:\n",
                "            result.append(\"Buzz\")\n",
                "        else:\n",
                "            result.append(num)\n",
                "    return result"
            ]
        },
        {
            "attachments": {},
            "cell_type": "markdown",
            "metadata": {
                "azdata_cell_guid": "8f587100-ccf5-4ef3-9660-331af83a26b9",
                "language": "python"
            },
            "source": [
                "- **FizzBuzz V2** - Update the definition to include new parameters to set the multiples that output Fizz or Buzz"
            ]
        },
        {
            "cell_type": "code",
            "execution_count": 2,
            "metadata": {
                "azdata_cell_guid": "8e9574f0-4bcb-4b54-b9d4-24a318a33ade",
                "language": "python",
                "tags": []
            },
            "outputs": [],
            "source": [
                "def fizzbuzz_V2(n: int, t: int, fizz: int, buzz: int):\n",
                "    result = []\n",
                "    for num in range(n, t):\n",
                "        if num % fizz == 0 and num % buzz == 0:\n",
                "            result.append(\"FizzBuzz\")\n",
                "        elif num % fizz == 0:\n",
                "            result.append(\"Fizz\")\n",
                "        elif num % buzz == 0:\n",
                "            result.append(\"Buzz\")\n",
                "        else:\n",
                "            result.append(num)\n",
                "    return result"
            ]
        },
        {
            "attachments": {},
            "cell_type": "markdown",
            "metadata": {
                "azdata_cell_guid": "866f8e45-a8f1-4222-afb5-daada2e6e741",
                "language": "python"
            },
            "source": [
                "- **Palindrome checker** - Write a function that checks if a given string is a palindrome (a word or phrase that reads the same backwards as forwards)."
            ]
        },
        {
            "cell_type": "code",
            "execution_count": 3,
            "metadata": {
                "azdata_cell_guid": "19497403-5fa2-4b51-b3f0-68eaa2b0d6f5",
                "language": "python",
                "tags": []
            },
            "outputs": [],
            "source": [
                "def is_palindrome(word):\n",
                "    word = word.lower().replace(\" \", \"\")\n",
                "    return word == word[::-1]"
            ]
        },
        {
            "attachments": {},
            "cell_type": "markdown",
            "metadata": {
                "azdata_cell_guid": "e4ba9c16-8ef5-4fae-a324-66d0b318610f",
                "language": "python"
            },
            "source": [
                "- **Factorial** - Write a function that calculates the factorial of a given number."
            ]
        },
        {
            "cell_type": "code",
            "execution_count": 4,
            "metadata": {
                "azdata_cell_guid": "245cf39b-b5a3-4a9d-98ab-796f695255c9",
                "language": "python",
                "tags": []
            },
            "outputs": [],
            "source": [
                "def factorial(num):\n",
                "    if num == 0:\n",
                "        return 1\n",
                "    else:\n",
                "        return num * factorial(num-1)"
            ]
        },
        {
            "attachments": {},
            "cell_type": "markdown",
            "metadata": {
                "azdata_cell_guid": "e9a54ff5-c522-48de-a232-e25af614e3f8",
                "language": "python"
            },
            "source": [
                "- **Greatest Common Divisor (GCD)**: Write a function that calculates the greates common divisor of two given numbers."
            ]
        },
        {
            "cell_type": "code",
            "execution_count": 5,
            "metadata": {
                "azdata_cell_guid": "3f6d92d0-1408-4594-941a-fd79e1329f39",
                "language": "python",
                "tags": []
            },
            "outputs": [],
            "source": [
                "def gcd(a, b):\n",
                "    while b != 0:\n",
                "        a, b = b, a % b\n",
                "    return a"
            ]
        },
        {
            "attachments": {},
            "cell_type": "markdown",
            "metadata": {
                "azdata_cell_guid": "e919bc7e-3817-406c-899f-4bc3e234d1a2",
                "language": "python"
            },
            "source": [
                "- **Reverse a string:** Write a function that reverses a given string."
            ]
        },
        {
            "cell_type": "code",
            "execution_count": 6,
            "metadata": {
                "azdata_cell_guid": "c491266f-4606-4c49-b0b8-64cf7a2f56e8",
                "language": "python",
                "tags": []
            },
            "outputs": [],
            "source": [
                "def reverse_string(word):\n",
                "    return word[::-1]"
            ]
        },
        {
            "attachments": {},
            "cell_type": "markdown",
            "metadata": {
                "azdata_cell_guid": "4761802d-6c41-478c-b05f-677113293aaf",
                "language": "python"
            },
            "source": [
                "- **Count the frequency of each word in a sentence**: Write a function that takes a sentence as input and returns a dictionary with the frequency of each word in the sentence."
            ]
        },
        {
            "cell_type": "code",
            "execution_count": 7,
            "metadata": {
                "azdata_cell_guid": "70ca77c3-0cad-4136-89f3-686edca80422",
                "language": "python",
                "tags": []
            },
            "outputs": [],
            "source": [
                "def count_words(sentence):\n",
                "    words = sentence.lower().split()\n",
                "    freq = {}\n",
                "    for word in words:\n",
                "        if word in freq:\n",
                "            freq[word] += 1\n",
                "        else:\n",
                "            freq[word] = 1\n",
                "    return freq"
            ]
        },
        {
            "attachments": {},
            "cell_type": "markdown",
            "metadata": {
                "azdata_cell_guid": "f41afb01-68f1-4a66-819b-d7a733f61a82",
                "language": "python"
            },
            "source": [
                "- **Fibonacci** - Define two functions. One to output a list of fibonacci numbers up to a given number and the other to test whether a given number is a fibonacci using the first function."
            ]
        },
        {
            "cell_type": "code",
            "execution_count": 8,
            "metadata": {
                "azdata_cell_guid": "80ac3139-f5fb-4d67-9698-c34c74f55706",
                "language": "python",
                "tags": []
            },
            "outputs": [],
            "source": [
                "def fibonacci(n: int):\n",
                "    \"\"\"Outputs a list of fibonacci numbers up to a given number n\"\"\"\n",
                "    if n < 0:\n",
                "        raise ValueError(\"Invalid input, must be a positive integer\", n)\n",
                "\n",
                "    a, b = 0, 1\n",
                "    my_list = []\n",
                "    while a <= n:\n",
                "        my_list.append(a)\n",
                "        a, b = b, a + b\n",
                "    return my_list"
            ]
        },
        {
            "cell_type": "code",
            "execution_count": 9,
            "metadata": {
                "azdata_cell_guid": "6ba5dfdb-da54-43bb-8244-ecffa47cf5f9",
                "language": "python",
                "tags": []
            },
            "outputs": [],
            "source": [
                "def is_fibonacci(n):\n",
                "    \"\"\"Indicates if a given number is a fibonacci number\"\"\"\n",
                "    # Quick check for negatives\n",
                "    if n < 0:\n",
                "        return False\n",
                "\n",
                "    fib_list = fibonacci(n)\n",
                "    if fib_list[-1] == n:\n",
                "        return True\n",
                "    else:\n",
                "        return False"
            ]
        },
        {
            "attachments": {},
            "cell_type": "markdown",
            "metadata": {
                "azdata_cell_guid": "24f8b647-8da2-406d-bd57-3da69fd58a5d",
                "language": "python"
            },
            "source": [
                "- **Unit testing** - Using Python, create a set of tests for the functions above. Unit tests are normally organized in three sections, remembered as **AAA**\n",
                "\n",
                "1. Arrange\n",
                "2. Act\n",
                "3. Assert\n",
                "\n",
                "> The Python <code>assert</code> keyword is is used when debugging code. \n",
                "\n",
                "Passing tests do not generate any output, meaning the asserts only generate output when a test fails. It allows you to test if a condition returns **True**. If **False**, an _Assertion Error_ is thrown, stopping further execution. This means that a unit test will report as a failure when ran if the expected result is not found during execution. Otherwise, it will continue executing tests. In a Notebook, this may stop the execution of the notebook's cells below the failed cell."
            ]
        },
        {
            "cell_type": "code",
            "execution_count": 10,
            "metadata": {
                "azdata_cell_guid": "950080de-acb5-486b-81f7-f44d85f98ee0",
                "language": "python",
                "tags": []
            },
            "outputs": [],
            "source": [
                "# Uncomment to install pytest module, 1 time only\n",
                "#pip install pytest\n",
                "\n",
                "# To use, call pytest from command line\n",
                "import pytest"
            ]
        },
        {
            "cell_type": "code",
            "execution_count": 11,
            "metadata": {
                "azdata_cell_guid": "c76e77bb-dd2c-47bb-ac87-256562b1b683",
                "language": "python",
                "tags": []
            },
            "outputs": [],
            "source": [
                "def test_fizzbuz_from_1_to_20():\n",
                "    # Arrange\n",
                "    expected = [1,\n",
                "    2,\n",
                "    'Fizz',\n",
                "    4,\n",
                "    'Buzz',\n",
                "    'Fizz',\n",
                "    7,\n",
                "    8,\n",
                "    'Fizz',\n",
                "    'Buzz',\n",
                "    11,\n",
                "    'Fizz',\n",
                "    13,\n",
                "    14,\n",
                "    'FizzBuzz',\n",
                "    16,\n",
                "    17,\n",
                "    'Fizz',\n",
                "    19]\n",
                "\n",
                "    # Act\n",
                "    actual = fizzbuzz(1,20)\n",
                "\n",
                "    # Assert\n",
                "    assert actual == expected\n",
                "\n",
                "test_fizzbuz_from_1_to_20()"
            ]
        },
        {
            "cell_type": "code",
            "execution_count": 12,
            "metadata": {
                "azdata_cell_guid": "de967e14-642f-485e-bb89-45d3361b1837",
                "language": "python",
                "tags": []
            },
            "outputs": [],
            "source": [
                "def test_fizzbuz_V2_from_1_to_10_on_4_and_7():\n",
                "    # Arrange\n",
                "    expected = [1, 2, 3, 'Fizz', 5, 6, 'Buzz', 'Fizz', 9]\n",
                "\n",
                "    # Act\n",
                "    actual = fizzbuzz_V2(1, 10, 4, 7)\n",
                "\n",
                "    # Assert\n",
                "    assert actual == expected\n",
                "\n",
                "test_fizzbuz_V2_from_1_to_10_on_4_and_7()"
            ]
        },
        {
            "cell_type": "code",
            "execution_count": 13,
            "metadata": {
                "azdata_cell_guid": "db1dd20a-dd1e-4a0f-a72a-fb741dd52253",
                "language": "python",
                "tags": []
            },
            "outputs": [],
            "source": [
                "def test_is_palindrome_true():\n",
                "    # Arrange\n",
                "    test_string = \"racecar\"\n",
                "\n",
                "    # Act\n",
                "    actual = is_palindrome(test_string)\n",
                "\n",
                "    # Assert\n",
                "    assert actual == True\n",
                "\n",
                "test_is_palindrome_true()"
            ]
        },
        {
            "cell_type": "code",
            "execution_count": 14,
            "metadata": {
                "azdata_cell_guid": "2794986d-5b62-45e0-86e6-a39c3c3e68fb",
                "language": "python",
                "tags": []
            },
            "outputs": [],
            "source": [
                "def test_is_palindrome_false():\n",
                "    # Arrange\n",
                "    not_palindrome = \"not a palindrome\"\n",
                "\n",
                "    # Act\n",
                "    actual = is_palindrome(not_palindrome)\n",
                "\n",
                "    # Assert\n",
                "    assert actual == False\n",
                "\n",
                "test_is_palindrome_false()"
            ]
        }
    ],
    "metadata": {
        "kernelspec": {
            "display_name": "Python 3 (ipykernel)",
            "language": "python",
            "name": "python3"
        },
        "language_info": {
            "codemirror_mode": {
                "name": "ipython",
                "version": 3
            },
            "file_extension": ".py",
            "mimetype": "text/x-python",
            "name": "python",
            "nbconvert_exporter": "python",
            "pygments_lexer": "ipython3",
            "version": "3.11.7"
        }
    },
    "nbformat": 4,
    "nbformat_minor": 2
}
