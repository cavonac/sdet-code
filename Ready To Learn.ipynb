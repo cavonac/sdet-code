{
 "cells": [
  {
   "cell_type": "markdown",
   "metadata": {},
   "source": [
    "# Ready to learn?\n",
    "I am! I'm constantly learning. As a life-long programmer, oftentimes as an SDET, I need to keep my skills sharp by putting my own code into Github. I may create some tools to help me learn topics I'm interested in. Here some of the topics I want to cover:\n",
    "* Programming fundamentals\n",
    "* Cyber security\n",
    "* Number theory\n",
    "* Aerospace\n",
    "* Games"
   ]
  },
  {
   "cell_type": "markdown",
   "metadata": {},
   "source": [
    "##### Table formatting"
   ]
  },
  {
   "cell_type": "code",
   "execution_count": 2,
   "metadata": {},
   "outputs": [
    {
     "data": {
      "text/html": [
       "<style>\n",
       "table {float:left}\n",
       "</style>\n"
      ],
      "text/plain": [
       "<IPython.core.display.HTML object>"
      ]
     },
     "metadata": {},
     "output_type": "display_data"
    }
   ],
   "source": [
    "%%html\n",
    "<style>\n",
    "table {float:left}\n",
    "</style>"
   ]
  },
  {
   "cell_type": "markdown",
   "metadata": {},
   "source": [
    "## List of resources\n",
    "Some interesting links and channels to gain better insight into the topics. \n",
    "\n",
    "#### YouTube channels\n",
    "| Name | Description \n",
    "| :--- | :--- \n",
    "| NumberPhile | Excellent resource on mathematics \n",
    "| ComputerPhile | Companion \"phile\" channel on all things computer \n",
    "| 3Blue1Brown | Animated explations of maths\n",
    "| HackerRank | Videos on Data Structures and tech HR \n",
    "| NASA | Space exploration \n",
    "| OWASP | Open Web Application Security Project\n",
    "| BrainCraft | PBS science entertainment and news\n",
    "| BugFinders Community | News about crowd sourced testing\n",
    "| BugCrowd | Crowd sourced security testing, interviews with hackers, etc.\n",
    "| Everyday Astronaut | Space enthusiast\n",
    "| HackerOne | Hacker techniques and interviews with ranked whitehats\n",
    "| Black Hat | Hacker convention \n",
    "| DEFCONConference | Hacker convention\n"
   ]
  },
  {
   "cell_type": "markdown",
   "metadata": {},
   "source": [
    "### URLs\n",
    "\n",
    "| Link | Org | Description \n",
    "| :--- | :--- | :--- \n",
    "| https://www.owasp.org | OWASP | Open Web Application Security Project \n",
    "| https://www.bugfinders.com/ | BugFinders | Bug programs, some functional testing \n",
    "| https://www.hackerone.com/ | HackerOne | Bug bounties, security-based \n",
    "| https://hackerone.com/canovac | HackerOne profile | H1 profile, not much on it \n",
    "| https://www.bugcrowd.com/ | BugCrowd | Online bug research programs \n",
    "| https://bugcrowd.com/canovac | BugCrowd profile | My bc profile \n",
    "| https://www.owasp.org/index.php/Web_Application_Security_Testing_Cheat_Sheet | OWASP | WebAppSec Testing Cheat Sheet \n",
    "| https://reason.com/2018/05/31/personal-encryption-101/ | Reason.com | Personal Encryption 101 \n",
    "| https://reason.com/2018/05/31/3-steps-to-buy-and-store-bitco/ | Reason.com | 3 steps to securely buy bitcoin \n",
    "| https://www.tutorialspoint.com/security_testing/index.htm | Tutorials Point | Security Testing Tutorial \n",
    "| https://www.nist.gov/topics/information-technology | NIST | InfoTech articles from National Institute of Standards and Technology \n",
    "| http://www.pentest-standard.org/index.php/PTES_Technical_Guidelines | PTES | Penetration Testing Execution Standards Technical Guidelines \n",
    "| https://www.kali.org | Kali Linux | Penetration Testing and Ethical Hacking Linux OS \n",
    "| https://www.hackerrank.com/ | HackerRank | Practice for interviews, find jobs, etc. (haven't used it much, yet) "
   ]
  },
  {
   "cell_type": "markdown",
   "metadata": {},
   "source": [
    "## A Note About Automation\n",
    "Since automation can be very quick, it is important to note that automation is often discouraged when doing security testing on \"crowd sourced testing\" services like BugFinders or BugCrowd. Testing may often require logging into a VPN service to host a testing session or it could be on live services! Automation has a tendency to cause issues so it's often banned outright. Simple automation could be used as proof of concept code for exploits. "
   ]
  },
  {
   "cell_type": "markdown",
   "metadata": {},
   "source": [
    "Here is an example of making web requests and processing headers using Python. Some of these headers are sensitive when checking URLs for security. "
   ]
  },
  {
   "cell_type": "code",
   "execution_count": null,
   "metadata": {},
   "outputs": [],
   "source": [
    "import requests\n",
    "\n",
    "\n",
    "def get_x_frame_options(url):\n",
    "    \"\"\"Retrieves the X-Frame-Options header from an URL string\"\"\"\n",
    "    r = requests.get(url)\n",
    "    return dict(r.headers).get(\"X-Frame-Options\")\n",
    "\n",
    "\n",
    "def get_x_xss_protection(url):\n",
    "    \"\"\"Retrieves the X-XSS-Protection header from an URL string\"\"\"\n",
    "    r = requests.get(url)\n",
    "    return dict(r.headers).get(\"X-XSS-Protection\")\n",
    "\n",
    "\n",
    "def get_x_content_type_options(url):\n",
    "    \"\"\"Retrieves the X-Content-Type-Options header from an URL string\"\"\"\n",
    "    r = requests.get(url)\n",
    "    return dict(r.headers).get(\"X-Content-Type-Options\")"
   ]
  },
  {
   "cell_type": "markdown",
   "metadata": {},
   "source": [
    "##### Next steps...\n",
    "Execute on the functions defined above to print out a website's header information.  "
   ]
  },
  {
   "cell_type": "code",
   "execution_count": null,
   "metadata": {},
   "outputs": [],
   "source": [
    "print(get_x_frame_options('https://owasp.org')) # should be DENY\n",
    "print(get_x_xss_protection('https://owasp.org')) # should not be null\n",
    "print(get_x_content_type_options('https://owasp.org')) # should be nosniff"
   ]
  }
 ],
 "metadata": {
  "kernelspec": {
   "display_name": "Python 3",
   "language": "python",
   "name": "python3"
  },
  "language_info": {
   "codemirror_mode": {
    "name": "ipython",
    "version": 3
   },
   "file_extension": ".py",
   "mimetype": "text/x-python",
   "name": "python",
   "nbconvert_exporter": "python",
   "pygments_lexer": "ipython3",
   "version": "3.7.3"
  }
 },
 "nbformat": 4,
 "nbformat_minor": 2
}
