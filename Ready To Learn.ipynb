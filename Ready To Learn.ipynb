{
 "cells": [
  {
   "cell_type": "markdown",
   "metadata": {},
   "source": [
    "# Ready to learn?\n",
    "I am! I'm constantly learning about technology. I stumbled upon using Jupyter Notebooks in a contract I had, so I am going to use them to keep my skills sharp between gigs. I may also create some tools to help me learn topics I'm interested in. Here some of the topics I want to cover:\n",
    "* Programming fundamentals\n",
    "* Cyber security\n",
    "* Number theory\n",
    "* Games"
   ]
  },
  {
   "cell_type": "markdown",
   "metadata": {},
   "source": [
    "Here is an example of making web requests and processing headers using Python. Some of these headers are sensitive when checking URLs for security. "
   ]
  },
  {
   "cell_type": "code",
   "execution_count": 7,
   "metadata": {},
   "outputs": [],
   "source": [
    "import requests\n",
    "\n",
    "\n",
    "def get_x_frame_options(url):\n",
    "    \"\"\"Retrieves the X-Frame-Options header from an URL string\"\"\"\n",
    "    r = requests.get(url)\n",
    "    return dict(r.headers).get(\"X-Frame-Options\")\n",
    "\n",
    "\n",
    "def get_x_xss_protection(url):\n",
    "    \"\"\"Retrieves the X-XSS-Protection header from an URL string\"\"\"\n",
    "    r = requests.get(url)\n",
    "    return dict(r.headers).get(\"X-XSS-Protection\")\n",
    "\n",
    "\n",
    "def get_x_content_type_options(url):\n",
    "    \"\"\"Retrieves the X-Content-Type-Options header from an URL string\"\"\"\n",
    "    r = requests.get(url)\n",
    "    return dict(r.headers).get(\"X-Content-Type-Options\")"
   ]
  },
  {
   "cell_type": "markdown",
   "metadata": {},
   "source": [
    "### Next steps...\n",
    "Include creating real world toolsfor finding bugs in the wild. "
   ]
  },
  {
   "cell_type": "code",
   "execution_count": 12,
   "metadata": {},
   "outputs": [
    {
     "name": "stdout",
     "output_type": "stream",
     "text": [
      "DENY\n",
      "1; mode=block\n",
      "nosniff\n"
     ]
    }
   ],
   "source": [
    "print(get_x_frame_options('https://owasp.org')) # should be DENY\n",
    "print(get_x_xss_protection('https://owasp.org')) # should not be null\n",
    "print(get_x_content_type_options('https://owasp.org')) # should be nosniff"
   ]
  }
 ],
 "metadata": {
  "kernelspec": {
   "display_name": "Python 3",
   "language": "python",
   "name": "python3"
  },
  "language_info": {
   "codemirror_mode": {
    "name": "ipython",
    "version": 3
   },
   "file_extension": ".py",
   "mimetype": "text/x-python",
   "name": "python",
   "nbconvert_exporter": "python",
   "pygments_lexer": "ipython3",
   "version": "3.7.3"
  }
 },
 "nbformat": 4,
 "nbformat_minor": 2
}
