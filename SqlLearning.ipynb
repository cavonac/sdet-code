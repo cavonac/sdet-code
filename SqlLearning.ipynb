{
    "metadata": {
        "kernelspec": {
            "name": "SQL",
            "display_name": "SQL",
            "language": "sql"
        },
        "language_info": {
            "name": "sql",
            "version": ""
        }
    },
    "nbformat_minor": 2,
    "nbformat": 4,
    "cells": [
        {
            "cell_type": "markdown",
            "source": [
                "# SQL Learning Notebook\n",
                "\n",
                "These are just a few examples of T-SQL queries that could be asked of novice programmers. They cover a range of basic T-SQL concepts and techniques, including SELECT statements, filtering and sorting data, joining tables, grouping data, and filtering groups.\n",
                "\n",
                "These queries will not run without a database connection. Adapt these queries to fit your own database or run a series of statements to create the needed tables and data. To run these exercises on your own, you can install SQL Server on your local machine or use an Azure instance.\n",
                "\n",
                "- [https://learn.microsoft.com/en-us/sql/ssms/download-sql-server-management-studio-ssms](https:\\learn.microsoft.com\\en-us\\sql\\ssms\\download-sql-server-management-studio-ssms)\n",
                "- [https://www.microsoft.com/sql-server/sql-server-downloads](https:\\www.microsoft.com\\sql-server\\sql-server-downloads)\n",
                "\n",
                "The purpose of this notebook is to provide samples of code that a QA test engineer would benefit from knowing in order to automation portions of their work."
            ],
            "metadata": {
                "azdata_cell_guid": "2a25d6f0-3f46-4349-8b80-623bf917de7c"
            },
            "attachments": {}
        },
        {
            "cell_type": "markdown",
            "source": [
                "- **Retreive** all columns from the _Employees_ table, limiting the results to the top 1000."
            ],
            "metadata": {
                "azdata_cell_guid": "3c43c881-fd33-41be-a646-4be272760f21"
            },
            "attachments": {}
        },
        {
            "cell_type": "code",
            "source": [
                "SELECT TOP 1000 * FROM Employees"
            ],
            "metadata": {
                "azdata_cell_guid": "2f53411a-92be-4544-9128-cf6e08414c17",
                "language": "sql"
            },
            "outputs": [],
            "execution_count": null
        },
        {
            "cell_type": "markdown",
            "source": [
                "As seen above, using the TOP function in SQL will limit the results so as not to create long-running queries. SQL is very happy to take as long as needed to return data, so limiting the amount to just what you need will prevent the database from being overtaxed."
            ],
            "metadata": {
                "language": "sql",
                "azdata_cell_guid": "fee2b4ed-6875-4dd3-a003-907799f7dafa"
            },
            "attachments": {}
        },
        {
            "cell_type": "markdown",
            "source": [
                "- **Filter data with WHERE:** Write a query to retrieve all columns and rows from a table named \"Orders\" where the \"OrderDate\" is after January 1, 2022."
            ],
            "metadata": {
                "language": "sql",
                "azdata_cell_guid": "650a7ea9-9644-4952-abfb-6c0638eaebf4"
            },
            "attachments": {}
        },
        {
            "cell_type": "code",
            "source": [
                "SELECT * FROM Orders WHERE OrderDate > '2022-01-01';"
            ],
            "metadata": {
                "language": "sql",
                "azdata_cell_guid": "da66e8b9-f4c9-49dc-bf6d-22afeb288399"
            },
            "outputs": [],
            "execution_count": null
        },
        {
            "cell_type": "markdown",
            "source": [
                "- **Sort data with ORDER BY:** Write a query to retrieve all columns and rows from a table named \"Customers\" sorted by the \"LastName\" column in ascending order."
            ],
            "metadata": {
                "language": "sql",
                "azdata_cell_guid": "129f4d4d-393f-4889-b354-440e7fa601b2"
            },
            "attachments": {}
        },
        {
            "cell_type": "code",
            "source": [
                "SELECT * FROM Customers ORDER BY LastName ASC;"
            ],
            "metadata": {
                "language": "sql",
                "azdata_cell_guid": "a94e1f4e-ecab-4285-83f6-85f1f4ae1f16"
            },
            "outputs": [],
            "execution_count": null
        },
        {
            "cell_type": "markdown",
            "source": [
                "- **JOIN Tables:** Write a query to retrieve the \"ProductName\", \"CategoryName\", and \"UnitPrice\" from a table named \"Products\" and a table named \"Categories\" joined on the \"CategoryID\" column."
            ],
            "metadata": {
                "language": "sql",
                "azdata_cell_guid": "15af9a6f-9cca-4b08-8a95-a526d72fa6e6"
            },
            "attachments": {}
        },
        {
            "cell_type": "code",
            "source": [
                "SELECT p.ProductName, c.CategoryName, p.UnitPrice\r\n",
                "FROM Products p\r\n",
                "JOIN Categories c ON p.CategoryID = c.CategoryID;"
            ],
            "metadata": {
                "language": "sql",
                "azdata_cell_guid": "d93b296b-376f-473d-951f-8d6f012b9632"
            },
            "outputs": [],
            "execution_count": null
        },
        {
            "cell_type": "markdown",
            "source": [
                "- **Group data:** Write a query to retrieve the \"Country\" and the count of customers from a table named \"Customers\" grouped by the \"Country\" column."
            ],
            "metadata": {
                "language": "sql",
                "azdata_cell_guid": "fe76ff6e-d290-4994-99a6-3a4a1cdfd7f4"
            },
            "attachments": {}
        },
        {
            "cell_type": "code",
            "source": [
                "SELECT Country, COUNT(*) as CustomerCount\r\n",
                "FROM Customers\r\n",
                "GROUP BY Country;"
            ],
            "metadata": {
                "language": "sql",
                "azdata_cell_guid": "28aa011f-a75b-4639-95ec-84cbd76e71be"
            },
            "outputs": [],
            "execution_count": null
        },
        {
            "cell_type": "markdown",
            "source": [
                "- **Filter groups with HAVING:** Write a query to retrieve the \"CategoryName\" and the average \"UnitPrice\" from a table named \"Products\" grouped by the \"CategoryName\" column, but only for categories with an average unit price greater than 10."
            ],
            "metadata": {
                "language": "sql",
                "azdata_cell_guid": "798a2c0f-80ed-4607-9f22-0f5de12a3818"
            },
            "attachments": {}
        },
        {
            "cell_type": "code",
            "source": [
                "SELECT CategoryName, AVG(UnitPrice) as AvgUnitPrice\r\n",
                "FROM Products\r\n",
                "GROUP BY CategoryName\r\n",
                "HAVING AVG(UnitPrice) > 10;"
            ],
            "metadata": {
                "language": "sql",
                "azdata_cell_guid": "c28d8c22-efae-4f6b-a4c6-1a0ebb1222dd"
            },
            "outputs": [],
            "execution_count": null
        },
        {
            "cell_type": "markdown",
            "source": [
                "- **Count distinct column entries:** Write a query to return a count of column entries that match. (Note that the TOP function isn't used because the count needs to consider the entire table."
            ],
            "metadata": {
                "language": "sql",
                "azdata_cell_guid": "8a6cae24-8900-43a4-8dc0-edf368c78007"
            },
            "attachments": {}
        },
        {
            "cell_type": "code",
            "source": [
                "SELECT DISTINCT COUNT(*) AS Count, ItemName\r\n",
                "FROM Items\r\n",
                "GROUP BY ItemName"
            ],
            "metadata": {
                "language": "sql",
                "azdata_cell_guid": "2bed2dab-8c53-4af6-979d-80c2624c1c34",
                "tags": []
            },
            "outputs": [],
            "execution_count": null
        }
    ]
}